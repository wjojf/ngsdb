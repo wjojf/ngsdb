{
 "cells": [
  {
   "cell_type": "code",
   "execution_count": 1,
   "metadata": {
    "deletable": true,
    "editable": true,
    "tags": []
   },
   "outputs": [],
   "source": [
    "%matplotlib inline"
   ]
  },
  {
   "cell_type": "code",
   "execution_count": 2,
   "metadata": {
    "deletable": true,
    "editable": true,
    "tags": []
   },
   "outputs": [],
   "source": [
    "import pandas as pd\n",
    "import numpy as np\n",
    "import csv\n",
    "from sklearn.preprocessing import StandardScaler\n",
    "from sklearn.decomposition import PCA as sklearnPCA\n",
    "from plotnine import *"
   ]
  },
  {
   "cell_type": "code",
   "execution_count": 4,
   "metadata": {},
   "outputs": [
    {
     "name": "stdout",
     "output_type": "stream",
     "text": [
      "total 77M\n",
      "drwxrwsr-x 14 ilya lab 4.0K Nov 23  2021 \u001b[0m\u001b[38;5;5m.\u001b[0m/\n",
      "drwxrwsr-x  6 ilya lab 4.0K Nov  2  2021 \u001b[38;5;5m..\u001b[0m/\n",
      "-rw-rw-r--  1 ilya lab 2.1M Nov 16  2021 count_matrix_1.csv\n",
      "-rw-rw-r--  1 ilya lab 2.1M Nov  3  2021 count_matrix.csv\n",
      "-rw-rw-r--  1 ilya lab 1.4M Jan 13  2022 count_matrix_ctrl.csv\n",
      "-rw-rw-r--  1 ilya lab 1.4M Nov 16  2021 count_matrix_SAM.csv\n",
      "drwxrwsr-x  2 ilya lab 4.0K Nov 10  2021 \u001b[38;5;5mlg01\u001b[0m/\n",
      "drwxrwsr-x  2 ilya lab 4.0K Nov 10  2021 \u001b[38;5;5mlg02\u001b[0m/\n",
      "drwxrwsr-x  2 ilya lab 4.0K Nov 10  2021 \u001b[38;5;5mlg03\u001b[0m/\n",
      "drwxrwsr-x  2 ilya lab 4.0K Nov 10  2021 \u001b[38;5;5mlg04\u001b[0m/\n",
      "drwxrwsr-x  2 ilya lab 4.0K Nov 10  2021 \u001b[38;5;5mlg05\u001b[0m/\n",
      "drwxrwsr-x  2 ilya lab 4.0K Nov 10  2021 \u001b[38;5;5mlg06\u001b[0m/\n",
      "drwxrwsr-x  2 ilya lab 4.0K Nov 10  2021 \u001b[38;5;5mlg07\u001b[0m/\n",
      "drwxrwsr-x  2 ilya lab 4.0K Nov 10  2021 \u001b[38;5;5mlg08\u001b[0m/\n",
      "drwxrwsr-x  2 ilya lab 4.0K Nov 10  2021 \u001b[38;5;5mlg09\u001b[0m/\n",
      "drwxrwsr-x  2 ilya lab 4.0K Nov 10  2021 \u001b[38;5;5mlg10\u001b[0m/\n",
      "drwxrwsr-x  2 ilya lab 4.0K Nov 10  2021 \u001b[38;5;5mlg11\u001b[0m/\n",
      "drwxrwsr-x  2 ilya lab 4.0K Nov 10  2021 \u001b[38;5;5mlg12\u001b[0m/\n",
      "-rw-rw-r--  1 ilya lab 8.6M Nov 11  2021 N2_vs_SAM_1.pyg.deseq.csv\n",
      "-rw-rw-r--  1 ilya lab 8.6M Nov  4  2021 N2_vs_SAM.pyg.deseq.csv\n",
      "-rw-rw-r--  1 ilya lab 8.6M Nov 11  2021 pyg_vs_ctrl_1.N2.deseq.csv\n",
      "-rw-rw-r--  1 ilya lab 8.6M Nov 11  2021 pyg_vs_ctrl_1.SAM.deseq.csv\n",
      "-rw-rw-r--  1 ilya lab 6.2M Nov 16  2021 pyg_vs_ctrl_2.SAM.deseq.csv\n",
      "-rw-rw-r--  1 ilya lab 5.7M Nov 23  2021 pyg_vs_ctrl_2.SAM-pyg4.deseq.csv\n",
      "-rw-rw-r--  1 ilya lab 8.6M Nov  4  2021 pyg_vs_ctrl.N2.deseq.csv\n",
      "-rw-rw-r--  1 ilya lab 8.6M Nov  4  2021 pyg_vs_ctrl.SAM.deseq.csv\n",
      "-rw-rw-r--  1 ilya lab 6.2M Nov 11  2021 SAM_vs_N2.deseq.csv\n"
     ]
    }
   ],
   "source": [
    "ls -lah ../results/"
   ]
  },
  {
   "cell_type": "code",
   "execution_count": 5,
   "metadata": {},
   "outputs": [
    {
     "name": "stdout",
     "output_type": "stream",
     "text": [
      "Ctrl4,Ctrl5,Ctrl6,pyg4,pyg5,pyg6\n",
      "WBGene00000001,1465,1129,1024,2369,1066,734\n",
      "WBGene00000002,661,455,617,504,546,238\n",
      "WBGene00000003,358,285,392,342,341,207\n",
      "WBGene00000004,704,369,522,713,405,242\n",
      "WBGene00000005,454,338,474,492,472,242\n",
      "WBGene00000006,474,207,293,467,262,139\n",
      "WBGene00000007,380,298,368,346,315,188\n",
      "WBGene00000008,35,32,44,32,44,16\n",
      "WBGene00000009,39,25,30,35,32,12\n"
     ]
    }
   ],
   "source": [
    "!head ../results/count_matrix_SAM.csv"
   ]
  },
  {
   "cell_type": "code",
   "execution_count": 6,
   "metadata": {},
   "outputs": [
    {
     "data": {
      "text/html": [
       "<div>\n",
       "<style scoped>\n",
       "    .dataframe tbody tr th:only-of-type {\n",
       "        vertical-align: middle;\n",
       "    }\n",
       "\n",
       "    .dataframe tbody tr th {\n",
       "        vertical-align: top;\n",
       "    }\n",
       "\n",
       "    .dataframe thead th {\n",
       "        text-align: right;\n",
       "    }\n",
       "</style>\n",
       "<table border=\"1\" class=\"dataframe\">\n",
       "  <thead>\n",
       "    <tr style=\"text-align: right;\">\n",
       "      <th></th>\n",
       "      <th>Ctrl4</th>\n",
       "      <th>Ctrl5</th>\n",
       "      <th>Ctrl6</th>\n",
       "      <th>pyg4</th>\n",
       "      <th>pyg5</th>\n",
       "      <th>pyg6</th>\n",
       "    </tr>\n",
       "  </thead>\n",
       "  <tbody>\n",
       "    <tr>\n",
       "      <th>WBGene00000001</th>\n",
       "      <td>1465</td>\n",
       "      <td>1129</td>\n",
       "      <td>1024</td>\n",
       "      <td>2369</td>\n",
       "      <td>1066</td>\n",
       "      <td>734</td>\n",
       "    </tr>\n",
       "    <tr>\n",
       "      <th>WBGene00000002</th>\n",
       "      <td>661</td>\n",
       "      <td>455</td>\n",
       "      <td>617</td>\n",
       "      <td>504</td>\n",
       "      <td>546</td>\n",
       "      <td>238</td>\n",
       "    </tr>\n",
       "    <tr>\n",
       "      <th>WBGene00000003</th>\n",
       "      <td>358</td>\n",
       "      <td>285</td>\n",
       "      <td>392</td>\n",
       "      <td>342</td>\n",
       "      <td>341</td>\n",
       "      <td>207</td>\n",
       "    </tr>\n",
       "    <tr>\n",
       "      <th>WBGene00000004</th>\n",
       "      <td>704</td>\n",
       "      <td>369</td>\n",
       "      <td>522</td>\n",
       "      <td>713</td>\n",
       "      <td>405</td>\n",
       "      <td>242</td>\n",
       "    </tr>\n",
       "    <tr>\n",
       "      <th>WBGene00000005</th>\n",
       "      <td>454</td>\n",
       "      <td>338</td>\n",
       "      <td>474</td>\n",
       "      <td>492</td>\n",
       "      <td>472</td>\n",
       "      <td>242</td>\n",
       "    </tr>\n",
       "    <tr>\n",
       "      <th>...</th>\n",
       "      <td>...</td>\n",
       "      <td>...</td>\n",
       "      <td>...</td>\n",
       "      <td>...</td>\n",
       "      <td>...</td>\n",
       "      <td>...</td>\n",
       "    </tr>\n",
       "    <tr>\n",
       "      <th>WBGene00255578</th>\n",
       "      <td>0</td>\n",
       "      <td>0</td>\n",
       "      <td>0</td>\n",
       "      <td>0</td>\n",
       "      <td>0</td>\n",
       "      <td>0</td>\n",
       "    </tr>\n",
       "    <tr>\n",
       "      <th>WBGene00255579</th>\n",
       "      <td>2</td>\n",
       "      <td>0</td>\n",
       "      <td>0</td>\n",
       "      <td>4</td>\n",
       "      <td>1</td>\n",
       "      <td>0</td>\n",
       "    </tr>\n",
       "    <tr>\n",
       "      <th>WBGene00255580</th>\n",
       "      <td>0</td>\n",
       "      <td>0</td>\n",
       "      <td>0</td>\n",
       "      <td>0</td>\n",
       "      <td>0</td>\n",
       "      <td>0</td>\n",
       "    </tr>\n",
       "    <tr>\n",
       "      <th>WBGene00255581</th>\n",
       "      <td>0</td>\n",
       "      <td>0</td>\n",
       "      <td>1</td>\n",
       "      <td>0</td>\n",
       "      <td>0</td>\n",
       "      <td>0</td>\n",
       "    </tr>\n",
       "    <tr>\n",
       "      <th>WBGene00255582</th>\n",
       "      <td>0</td>\n",
       "      <td>0</td>\n",
       "      <td>0</td>\n",
       "      <td>0</td>\n",
       "      <td>1</td>\n",
       "      <td>0</td>\n",
       "    </tr>\n",
       "  </tbody>\n",
       "</table>\n",
       "<p>46743 rows × 6 columns</p>\n",
       "</div>"
      ],
      "text/plain": [
       "                Ctrl4  Ctrl5  Ctrl6  pyg4  pyg5  pyg6\n",
       "WBGene00000001   1465   1129   1024  2369  1066   734\n",
       "WBGene00000002    661    455    617   504   546   238\n",
       "WBGene00000003    358    285    392   342   341   207\n",
       "WBGene00000004    704    369    522   713   405   242\n",
       "WBGene00000005    454    338    474   492   472   242\n",
       "...               ...    ...    ...   ...   ...   ...\n",
       "WBGene00255578      0      0      0     0     0     0\n",
       "WBGene00255579      2      0      0     4     1     0\n",
       "WBGene00255580      0      0      0     0     0     0\n",
       "WBGene00255581      0      0      1     0     0     0\n",
       "WBGene00255582      0      0      0     0     1     0\n",
       "\n",
       "[46743 rows x 6 columns]"
      ]
     },
     "execution_count": 6,
     "metadata": {},
     "output_type": "execute_result"
    }
   ],
   "source": [
    "df = pd.read_csv('../results/count_matrix_SAM.csv', index_col=None, skipfooter=5, engine='python')\n",
    "df"
   ]
  },
  {
   "cell_type": "code",
   "execution_count": 7,
   "metadata": {},
   "outputs": [
    {
     "data": {
      "text/html": [
       "<div>\n",
       "<style scoped>\n",
       "    .dataframe tbody tr th:only-of-type {\n",
       "        vertical-align: middle;\n",
       "    }\n",
       "\n",
       "    .dataframe tbody tr th {\n",
       "        vertical-align: top;\n",
       "    }\n",
       "\n",
       "    .dataframe thead th {\n",
       "        text-align: right;\n",
       "    }\n",
       "</style>\n",
       "<table border=\"1\" class=\"dataframe\">\n",
       "  <thead>\n",
       "    <tr style=\"text-align: right;\">\n",
       "      <th></th>\n",
       "      <th>Ctrl4</th>\n",
       "      <th>Ctrl5</th>\n",
       "      <th>Ctrl6</th>\n",
       "      <th>pyg4</th>\n",
       "      <th>pyg5</th>\n",
       "      <th>pyg6</th>\n",
       "    </tr>\n",
       "  </thead>\n",
       "  <tbody>\n",
       "    <tr>\n",
       "      <th>count</th>\n",
       "      <td>4.674300e+04</td>\n",
       "      <td>4.674300e+04</td>\n",
       "      <td>4.674300e+04</td>\n",
       "      <td>4.674300e+04</td>\n",
       "      <td>4.674300e+04</td>\n",
       "      <td>4.674300e+04</td>\n",
       "    </tr>\n",
       "    <tr>\n",
       "      <th>mean</th>\n",
       "      <td>7.752833e+02</td>\n",
       "      <td>4.710346e+02</td>\n",
       "      <td>6.088720e+02</td>\n",
       "      <td>6.953206e+02</td>\n",
       "      <td>5.451041e+02</td>\n",
       "      <td>3.177817e+02</td>\n",
       "    </tr>\n",
       "    <tr>\n",
       "      <th>std</th>\n",
       "      <td>2.068089e+04</td>\n",
       "      <td>1.103635e+04</td>\n",
       "      <td>1.742460e+04</td>\n",
       "      <td>1.495756e+04</td>\n",
       "      <td>1.463567e+04</td>\n",
       "      <td>8.958400e+03</td>\n",
       "    </tr>\n",
       "    <tr>\n",
       "      <th>min</th>\n",
       "      <td>0.000000e+00</td>\n",
       "      <td>0.000000e+00</td>\n",
       "      <td>0.000000e+00</td>\n",
       "      <td>0.000000e+00</td>\n",
       "      <td>0.000000e+00</td>\n",
       "      <td>0.000000e+00</td>\n",
       "    </tr>\n",
       "    <tr>\n",
       "      <th>25%</th>\n",
       "      <td>0.000000e+00</td>\n",
       "      <td>0.000000e+00</td>\n",
       "      <td>0.000000e+00</td>\n",
       "      <td>0.000000e+00</td>\n",
       "      <td>0.000000e+00</td>\n",
       "      <td>0.000000e+00</td>\n",
       "    </tr>\n",
       "    <tr>\n",
       "      <th>50%</th>\n",
       "      <td>0.000000e+00</td>\n",
       "      <td>0.000000e+00</td>\n",
       "      <td>0.000000e+00</td>\n",
       "      <td>0.000000e+00</td>\n",
       "      <td>0.000000e+00</td>\n",
       "      <td>0.000000e+00</td>\n",
       "    </tr>\n",
       "    <tr>\n",
       "      <th>75%</th>\n",
       "      <td>6.000000e+01</td>\n",
       "      <td>3.900000e+01</td>\n",
       "      <td>4.700000e+01</td>\n",
       "      <td>5.100000e+01</td>\n",
       "      <td>4.300000e+01</td>\n",
       "      <td>2.500000e+01</td>\n",
       "    </tr>\n",
       "    <tr>\n",
       "      <th>max</th>\n",
       "      <td>3.136402e+06</td>\n",
       "      <td>1.650218e+06</td>\n",
       "      <td>2.625981e+06</td>\n",
       "      <td>2.222668e+06</td>\n",
       "      <td>2.177820e+06</td>\n",
       "      <td>1.336600e+06</td>\n",
       "    </tr>\n",
       "  </tbody>\n",
       "</table>\n",
       "</div>"
      ],
      "text/plain": [
       "              Ctrl4         Ctrl5         Ctrl6          pyg4          pyg5  \\\n",
       "count  4.674300e+04  4.674300e+04  4.674300e+04  4.674300e+04  4.674300e+04   \n",
       "mean   7.752833e+02  4.710346e+02  6.088720e+02  6.953206e+02  5.451041e+02   \n",
       "std    2.068089e+04  1.103635e+04  1.742460e+04  1.495756e+04  1.463567e+04   \n",
       "min    0.000000e+00  0.000000e+00  0.000000e+00  0.000000e+00  0.000000e+00   \n",
       "25%    0.000000e+00  0.000000e+00  0.000000e+00  0.000000e+00  0.000000e+00   \n",
       "50%    0.000000e+00  0.000000e+00  0.000000e+00  0.000000e+00  0.000000e+00   \n",
       "75%    6.000000e+01  3.900000e+01  4.700000e+01  5.100000e+01  4.300000e+01   \n",
       "max    3.136402e+06  1.650218e+06  2.625981e+06  2.222668e+06  2.177820e+06   \n",
       "\n",
       "               pyg6  \n",
       "count  4.674300e+04  \n",
       "mean   3.177817e+02  \n",
       "std    8.958400e+03  \n",
       "min    0.000000e+00  \n",
       "25%    0.000000e+00  \n",
       "50%    0.000000e+00  \n",
       "75%    2.500000e+01  \n",
       "max    1.336600e+06  "
      ]
     },
     "execution_count": 7,
     "metadata": {},
     "output_type": "execute_result"
    }
   ],
   "source": [
    "df.describe()"
   ]
  },
  {
   "cell_type": "code",
   "execution_count": 9,
   "metadata": {
    "collapsed": false,
    "deletable": true,
    "editable": true,
    "jupyter": {
     "outputs_hidden": false
    }
   },
   "outputs": [
    {
     "data": {
      "text/plain": [
       "array([[ 0.31872731,  1.15104898,  0.62026579, ...,  0.        ,\n",
       "        -0.4472136 , -0.4472136 ],\n",
       "       [-0.32190505, -0.35445   , -0.5980141 , ...,  0.        ,\n",
       "        -0.4472136 , -0.4472136 ],\n",
       "       [-0.52210266,  0.82948609,  1.18768382, ...,  0.        ,\n",
       "         2.23606798, -0.4472136 ],\n",
       "       [ 2.04233341,  0.00365412,  0.35324554, ...,  0.        ,\n",
       "        -0.4472136 , -0.4472136 ],\n",
       "       [-0.44202362,  0.31060052,  0.33655677, ...,  0.        ,\n",
       "        -0.4472136 ,  2.23606798],\n",
       "       [-1.0750294 , -1.94033972, -1.89973782, ...,  0.        ,\n",
       "        -0.4472136 , -0.4472136 ]])"
      ]
     },
     "execution_count": 9,
     "metadata": {},
     "output_type": "execute_result"
    }
   ],
   "source": [
    "# build expression matrix\n",
    "    \n",
    "# Same as .fit() and then .transform()\n",
    "X_std = StandardScaler().fit_transform(df.values.T)\n",
    "X_std"
   ]
  },
  {
   "cell_type": "markdown",
   "metadata": {},
   "source": [
    "## Principal Component Analisys (PCA)\n",
    "\n",
    "Linear dimensionality reduction using Singular Value Decomposition of the data to project it to a lower dimensional space. The input data is centered but not scaled for each feature before applying the `SVD`.\n",
    "\n",
    "The resulting components are ranked by the amount of variance explained in the data."
   ]
  },
  {
   "cell_type": "code",
   "execution_count": 10,
   "metadata": {
    "collapsed": false,
    "deletable": true,
    "editable": true,
    "jupyter": {
     "outputs_hidden": false
    },
    "tags": []
   },
   "outputs": [
    {
     "name": "stdout",
     "output_type": "stream",
     "text": [
      "[[-113.34156052  -78.22094526  -74.82053067  -31.41150458]\n",
      " [  55.65088981   10.9376077   -19.00317033  -12.69631308]\n",
      " [   3.31450827  -78.58558792   93.88966493  -33.32434841]\n",
      " [-153.22645258  123.13634455   24.4685263     5.79198163]\n",
      " [  31.39724496  -39.00501714   -2.33691292   99.98827345]\n",
      " [ 176.20537006   61.73759808  -22.19757732  -28.34808901]]\n",
      "[14293.35640884  6581.86477938  3174.28077038  2618.64144223]\n",
      "[0.49288796 0.22696712 0.10946098 0.09030047]\n"
     ]
    }
   ],
   "source": [
    "sklearn_pca = sklearnPCA(n_components=4)\n",
    "Y = sklearn_pca.fit_transform(X_std)\n",
    "print(Y)\n",
    "print(sklearn_pca.explained_variance_)\n",
    "print(sklearn_pca.explained_variance_ratio_)"
   ]
  },
  {
   "cell_type": "code",
   "execution_count": 11,
   "metadata": {
    "collapsed": false,
    "deletable": true,
    "editable": true,
    "jupyter": {
     "outputs_hidden": false
    }
   },
   "outputs": [
    {
     "data": {
      "image/png": "[encoded data removed]",
      "text/plain": [
       "<Figure size 640x480 with 1 Axes>"
      ]
     },
     "metadata": {},
     "output_type": "display_data"
    },
    {
     "data": {
      "text/plain": [
       "<ggplot: (8744600061681)>"
      ]
     },
     "execution_count": 11,
     "metadata": {},
     "output_type": "execute_result"
    }
   ],
   "source": [
    "vdf = pd.DataFrame()\n",
    "vdf['PC'] = [(i+1) for i,x in enumerate(sklearn_pca.explained_variance_ratio_)]\n",
    "vdf['var'] = sklearn_pca.explained_variance_ratio_\n",
    "\n",
    "(ggplot(vdf, aes(x='PC', y='var'))\n",
    "    + geom_point(size=5, alpha=0.3)\n",
    "    + ylab('Explained variance')\n",
    ")"
   ]
  },
  {
   "cell_type": "code",
   "execution_count": 15,
   "metadata": {
    "collapsed": false,
    "deletable": true,
    "editable": true,
    "jupyter": {
     "outputs_hidden": false
    }
   },
   "outputs": [
    {
     "data": {
      "text/html": [
       "<div>\n",
       "<style scoped>\n",
       "    .dataframe tbody tr th:only-of-type {\n",
       "        vertical-align: middle;\n",
       "    }\n",
       "\n",
       "    .dataframe tbody tr th {\n",
       "        vertical-align: top;\n",
       "    }\n",
       "\n",
       "    .dataframe thead th {\n",
       "        text-align: right;\n",
       "    }\n",
       "</style>\n",
       "<table border=\"1\" class=\"dataframe\">\n",
       "  <thead>\n",
       "    <tr style=\"text-align: right;\">\n",
       "      <th></th>\n",
       "      <th>condition</th>\n",
       "      <th>PC1</th>\n",
       "      <th>PC2</th>\n",
       "    </tr>\n",
       "  </thead>\n",
       "  <tbody>\n",
       "    <tr>\n",
       "      <th>0</th>\n",
       "      <td>Ctrl</td>\n",
       "      <td>-113.341561</td>\n",
       "      <td>-78.220945</td>\n",
       "    </tr>\n",
       "    <tr>\n",
       "      <th>1</th>\n",
       "      <td>Ctrl</td>\n",
       "      <td>55.650890</td>\n",
       "      <td>10.937608</td>\n",
       "    </tr>\n",
       "    <tr>\n",
       "      <th>2</th>\n",
       "      <td>Ctrl</td>\n",
       "      <td>3.314508</td>\n",
       "      <td>-78.585588</td>\n",
       "    </tr>\n",
       "    <tr>\n",
       "      <th>3</th>\n",
       "      <td>pyg</td>\n",
       "      <td>-153.226453</td>\n",
       "      <td>123.136345</td>\n",
       "    </tr>\n",
       "    <tr>\n",
       "      <th>4</th>\n",
       "      <td>pyg</td>\n",
       "      <td>31.397245</td>\n",
       "      <td>-39.005017</td>\n",
       "    </tr>\n",
       "    <tr>\n",
       "      <th>5</th>\n",
       "      <td>pyg</td>\n",
       "      <td>176.205370</td>\n",
       "      <td>61.737598</td>\n",
       "    </tr>\n",
       "  </tbody>\n",
       "</table>\n",
       "</div>"
      ],
      "text/plain": [
       "  condition         PC1         PC2\n",
       "0      Ctrl -113.341561  -78.220945\n",
       "1      Ctrl   55.650890   10.937608\n",
       "2      Ctrl    3.314508  -78.585588\n",
       "3       pyg -153.226453  123.136345\n",
       "4       pyg   31.397245  -39.005017\n",
       "5       pyg  176.205370   61.737598"
      ]
     },
     "execution_count": 15,
     "metadata": {},
     "output_type": "execute_result"
    }
   ],
   "source": [
    "pca_df = pd.DataFrame()\n",
    "pca_df['condition'] = ['Ctrl']*3 + ['pyg']*3\n",
    "pca_df['PC1'] = Y[:,0]\n",
    "pca_df['PC2'] = Y[:,1]\n",
    "\n",
    "pca_df"
   ]
  },
  {
   "cell_type": "code",
   "execution_count": 17,
   "metadata": {
    "collapsed": false,
    "deletable": true,
    "editable": true,
    "jupyter": {
     "outputs_hidden": false
    }
   },
   "outputs": [
    {
     "data": {
      "image/png": "[encoded data removed]",
      "text/plain": [
       "<Figure size 640x480 with 1 Axes>"
      ]
     },
     "metadata": {},
     "output_type": "display_data"
    },
    {
     "data": {
      "text/plain": [
       "<ggplot: (8744600058341)>"
      ]
     },
     "execution_count": 17,
     "metadata": {},
     "output_type": "execute_result"
    }
   ],
   "source": [
    "(ggplot(pca_df, aes(x='PC1', y='PC2', color='condition'))\n",
    "    + geom_point(size=5, alpha=0.3)\n",
    ")"
   ]
  },
  {
   "cell_type": "code",
   "execution_count": null,
   "metadata": {},
   "outputs": [],
   "source": []
  }
 ],
 "metadata": {
  "kernelspec": {
   "display_name": "Python 3 (ipykernel)",
   "language": "python",
   "name": "python3"
  },
  "language_info": {
   "codemirror_mode": {
    "name": "ipython",
    "version": 3
   },
   "file_extension": ".py",
   "mimetype": "text/x-python",
   "name": "python",
   "nbconvert_exporter": "python",
   "pygments_lexer": "ipython3",
   "version": "3.8.10"
  }
 },
 "nbformat": 4,
 "nbformat_minor": 4
}
